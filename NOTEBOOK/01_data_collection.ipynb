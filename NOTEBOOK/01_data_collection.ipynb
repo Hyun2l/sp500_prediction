{
  "cells": [
    {
      "cell_type": "code",
      "execution_count": 22,
      "id": "7140cf11",
      "metadata": {
        "colab": {
          "base_uri": "https://localhost:8080/"
        },
        "id": "7140cf11",
        "outputId": "6d13b2d2-c03a-4da8-ddb6-ec7f2654b539"
      },
      "outputs": [
        {
          "output_type": "stream",
          "name": "stdout",
          "text": [
            "Requirement already satisfied: kagglehub in /usr/local/lib/python3.12/dist-packages (0.3.13)\n",
            "Requirement already satisfied: packaging in /usr/local/lib/python3.12/dist-packages (from kagglehub) (25.0)\n",
            "Requirement already satisfied: pyyaml in /usr/local/lib/python3.12/dist-packages (from kagglehub) (6.0.2)\n",
            "Requirement already satisfied: requests in /usr/local/lib/python3.12/dist-packages (from kagglehub) (2.32.4)\n",
            "Requirement already satisfied: tqdm in /usr/local/lib/python3.12/dist-packages (from kagglehub) (4.67.1)\n",
            "Requirement already satisfied: charset_normalizer<4,>=2 in /usr/local/lib/python3.12/dist-packages (from requests->kagglehub) (3.4.3)\n",
            "Requirement already satisfied: idna<4,>=2.5 in /usr/local/lib/python3.12/dist-packages (from requests->kagglehub) (3.10)\n",
            "Requirement already satisfied: urllib3<3,>=1.21.1 in /usr/local/lib/python3.12/dist-packages (from requests->kagglehub) (2.5.0)\n",
            "Requirement already satisfied: certifi>=2017.4.17 in /usr/local/lib/python3.12/dist-packages (from requests->kagglehub) (2025.8.3)\n",
            "Using Colab cache for faster access to the 'interest-rates' dataset.\n",
            "   Year  Month  Day  Federal Funds Target Rate  Federal Funds Upper Target  \\\n",
            "0  1954      7    1                        NaN                         NaN   \n",
            "1  1954      8    1                        NaN                         NaN   \n",
            "2  1954      9    1                        NaN                         NaN   \n",
            "3  1954     10    1                        NaN                         NaN   \n",
            "4  1954     11    1                        NaN                         NaN   \n",
            "\n",
            "   Federal Funds Lower Target  Effective Federal Funds Rate  \\\n",
            "0                         NaN                          0.80   \n",
            "1                         NaN                          1.22   \n",
            "2                         NaN                          1.06   \n",
            "3                         NaN                          0.85   \n",
            "4                         NaN                          0.83   \n",
            "\n",
            "   Real GDP (Percent Change)  Unemployment Rate  Inflation Rate  \n",
            "0                        4.6                5.8             NaN  \n",
            "1                        NaN                6.0             NaN  \n",
            "2                        NaN                6.1             NaN  \n",
            "3                        8.0                5.7             NaN  \n",
            "4                        NaN                5.3             NaN  \n"
          ]
        }
      ],
      "source": [
        "!pip install kagglehub\n",
        "\n",
        "import pandas as pd\n",
        "import kagglehub\n",
        "\n",
        "# Download dataset\n",
        "path = kagglehub.dataset_download(\"federalreserve/interest-rates\")\n",
        "\n",
        "# Load CSV\n",
        "fomc = pd.read_csv(f\"{path}/index.csv\")\n",
        "\n",
        "print(fomc.head())\n"
      ]
    },
    {
      "cell_type": "code",
      "source": [],
      "metadata": {
        "id": "U9I5TuoK19_w"
      },
      "id": "U9I5TuoK19_w",
      "execution_count": 19,
      "outputs": []
    }
  ],
  "metadata": {
    "language_info": {
      "name": "python"
    },
    "colab": {
      "provenance": []
    },
    "kernelspec": {
      "name": "python3",
      "display_name": "Python 3"
    }
  },
  "nbformat": 4,
  "nbformat_minor": 5
}