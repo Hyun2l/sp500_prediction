{
  "cells": [
    {
      "cell_type": "code",
      "execution_count": null,
      "id": "mtQDRoEHP2pr",
      "metadata": {
        "colab": {
          "base_uri": "https://localhost:8080/"
        },
        "id": "mtQDRoEHP2pr",
        "outputId": "c6ea95aa-7446-43f7-c5ab-eca2857d13df"
      },
      "outputs": [
        {
          "name": "stdout",
          "output_type": "stream",
          "text": [
            "Drive already mounted at /content/drive; to attempt to forcibly remount, call drive.mount(\"/content/drive\", force_remount=True).\n",
            "Cloning into 'sp500_prediction'...\n",
            "remote: Enumerating objects: 6351, done.\u001b[K\n",
            "remote: Counting objects: 100% (6351/6351), done.\u001b[K\n",
            "remote: Compressing objects: 100% (5819/5819), done.\u001b[K\n",
            "remote: Total 6351 (delta 379), reused 6316 (delta 369), pack-reused 0 (from 0)\u001b[K\n",
            "Receiving objects: 100% (6351/6351), 21.82 MiB | 19.43 MiB/s, done.\n",
            "Resolving deltas: 100% (379/379), done.\n",
            "/content/sp500_prediction/sp500_prediction/sp500_prediction\n"
          ]
        }
      ],
      "source": [
        "!pip install kagglehub\n",
        "\n",
        "import pandas as pd\n",
        "import kagglehub\n",
        "\n",
        "# Download dataset\n",
        "path = kagglehub.dataset_download(\"federalreserve/interest-rates\")\n",
        "\n",
        "# Load CSV\n",
        "df = pd.read_csv(f\"{path}/index.csv\")\n",
        "\n",
        "\n",
        "# 3. Create a datetime column\n",
        "df['date'] = pd.to_datetime(dict(year=df.Year, month=df.Month, day=df.Day))\n",
        "df = df.sort_values(\"date\").reset_index(drop=True)\n",
        "\n"
      ]
    },
    {
      "cell_type": "code",
      "execution_count": 19,
      "id": "U9I5TuoK19_w",
      "metadata": {
        "id": "U9I5TuoK19_w"
      },
      "outputs": [],
      "source": []
    }
  ],
  "metadata": {
    "colab": {
      "provenance": []
    },
    "kernelspec": {
      "display_name": "Python 3",
      "name": "python3"
    },
    "language_info": {
      "codemirror_mode": {
        "name": "ipython",
        "version": 3
      },
      "file_extension": ".py",
      "mimetype": "text/x-python",
      "name": "python",
      "nbconvert_exporter": "python",
      "pygments_lexer": "ipython3",
      "version": "3.12.1"
    }
  },
  "nbformat": 4,
  "nbformat_minor": 5
}
