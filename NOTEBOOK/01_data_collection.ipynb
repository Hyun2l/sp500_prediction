{
  "cells": [
    {
      "cell_type": "code",
      "execution_count": 38,
      "id": "7140cf11",
      "metadata": {
        "colab": {
          "base_uri": "https://localhost:8080/"
        },
        "id": "7140cf11",
        "outputId": "7a377611-a7db-4dcb-989f-52192fd4a67d"
      },
      "outputs": [
        {
          "output_type": "stream",
          "name": "stdout",
          "text": [
            "Requirement already satisfied: kagglehub in /usr/local/lib/python3.12/dist-packages (0.3.13)\n",
            "Requirement already satisfied: packaging in /usr/local/lib/python3.12/dist-packages (from kagglehub) (25.0)\n",
            "Requirement already satisfied: pyyaml in /usr/local/lib/python3.12/dist-packages (from kagglehub) (6.0.2)\n",
            "Requirement already satisfied: requests in /usr/local/lib/python3.12/dist-packages (from kagglehub) (2.32.4)\n",
            "Requirement already satisfied: tqdm in /usr/local/lib/python3.12/dist-packages (from kagglehub) (4.67.1)\n",
            "Requirement already satisfied: charset_normalizer<4,>=2 in /usr/local/lib/python3.12/dist-packages (from requests->kagglehub) (3.4.3)\n",
            "Requirement already satisfied: idna<4,>=2.5 in /usr/local/lib/python3.12/dist-packages (from requests->kagglehub) (3.10)\n",
            "Requirement already satisfied: urllib3<3,>=1.21.1 in /usr/local/lib/python3.12/dist-packages (from requests->kagglehub) (2.5.0)\n",
            "Requirement already satisfied: certifi>=2017.4.17 in /usr/local/lib/python3.12/dist-packages (from requests->kagglehub) (2025.8.3)\n",
            "Using Colab cache for faster access to the 'interest-rates' dataset.\n",
            "   Year  Month  Day  Federal Funds Target Rate  Federal Funds Upper Target  \\\n",
            "0  1954      7    1                        NaN                         NaN   \n",
            "1  1954      8    1                        NaN                         NaN   \n",
            "2  1954      9    1                        NaN                         NaN   \n",
            "3  1954     10    1                        NaN                         NaN   \n",
            "4  1954     11    1                        NaN                         NaN   \n",
            "\n",
            "   Federal Funds Lower Target  Effective Federal Funds Rate  \\\n",
            "0                         NaN                          0.80   \n",
            "1                         NaN                          1.22   \n",
            "2                         NaN                          1.06   \n",
            "3                         NaN                          0.85   \n",
            "4                         NaN                          0.83   \n",
            "\n",
            "   Real GDP (Percent Change)  Unemployment Rate  Inflation Rate  \n",
            "0                        4.6                5.8             NaN  \n",
            "1                        NaN                6.0             NaN  \n",
            "2                        NaN                6.1             NaN  \n",
            "3                        8.0                5.7             NaN  \n",
            "4                        NaN                5.3             NaN  \n",
            "Index(['Year', 'Month', 'Day', 'Federal Funds Target Rate',\n",
            "       'Federal Funds Upper Target', 'Federal Funds Lower Target',\n",
            "       'Effective Federal Funds Rate', 'Real GDP (Percent Change)',\n",
            "       'Unemployment Rate', 'Inflation Rate'],\n",
            "      dtype='object')\n"
          ]
        }
      ],
      "source": [
        "!pip install kagglehub\n",
        "\n",
        "import pandas as pd\n",
        "import kagglehub\n",
        "\n",
        "# Download dataset\n",
        "path = kagglehub.dataset_download(\"federalreserve/interest-rates\")\n",
        "\n",
        "# Load CSV\n",
        "df = pd.read_csv(f\"{path}/index.csv\")\n",
        "\n",
        "\n",
        "# 3. Create a datetime column\n",
        "# ================================\n",
        "df['date'] = pd.to_datetime(dict(year=df.Year, month=df.Month, day=df.Day))\n",
        "df = df.sort_values(\"date\").reset_index(drop=True)\n",
        "\n"
      ]
    },
    {
      "cell_type": "code",
      "source": [
        "from google.colab import drive\n",
        "drive.mount('/content/drive')\n",
        "\n",
        "\n",
        "!git clone https://github.com/Hyun2l/sp500_prediction.git\n",
        "\n",
        "%cd sp500_prediction/"
      ],
      "metadata": {
        "id": "mtQDRoEHP2pr",
        "outputId": "c6ea95aa-7446-43f7-c5ab-eca2857d13df",
        "colab": {
          "base_uri": "https://localhost:8080/"
        }
      },
      "id": "mtQDRoEHP2pr",
      "execution_count": 47,
      "outputs": [
        {
          "output_type": "stream",
          "name": "stdout",
          "text": [
            "Drive already mounted at /content/drive; to attempt to forcibly remount, call drive.mount(\"/content/drive\", force_remount=True).\n",
            "Cloning into 'sp500_prediction'...\n",
            "remote: Enumerating objects: 6351, done.\u001b[K\n",
            "remote: Counting objects: 100% (6351/6351), done.\u001b[K\n",
            "remote: Compressing objects: 100% (5819/5819), done.\u001b[K\n",
            "remote: Total 6351 (delta 379), reused 6316 (delta 369), pack-reused 0 (from 0)\u001b[K\n",
            "Receiving objects: 100% (6351/6351), 21.82 MiB | 19.43 MiB/s, done.\n",
            "Resolving deltas: 100% (379/379), done.\n",
            "/content/sp500_prediction/sp500_prediction/sp500_prediction\n"
          ]
        }
      ]
    },
    {
      "cell_type": "code",
      "source": [],
      "metadata": {
        "id": "s35Lo9BhR8Lr"
      },
      "id": "s35Lo9BhR8Lr",
      "execution_count": null,
      "outputs": []
    },
    {
      "cell_type": "code",
      "source": [],
      "metadata": {
        "id": "vHrBJ_bmSKsl"
      },
      "id": "vHrBJ_bmSKsl",
      "execution_count": null,
      "outputs": []
    },
    {
      "cell_type": "code",
      "source": [
        "df.to_csv(\"/content/sp500_prediction/DATA/RAW\", index=False)"
      ],
      "metadata": {
        "id": "U9I5TuoK19_w"
      },
      "id": "U9I5TuoK19_w",
      "execution_count": 50,
      "outputs": []
    }
  ],
  "metadata": {
    "language_info": {
      "name": "python"
    },
    "colab": {
      "provenance": []
    },
    "kernelspec": {
      "name": "python3",
      "display_name": "Python 3"
    }
  },
  "nbformat": 4,
  "nbformat_minor": 5
}